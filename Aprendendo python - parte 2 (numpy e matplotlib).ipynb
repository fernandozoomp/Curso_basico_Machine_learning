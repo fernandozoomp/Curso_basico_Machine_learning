{
 "cells": [
  {
   "cell_type": "code",
   "execution_count": 1,
   "metadata": {},
   "outputs": [],
   "source": [
    "# -*- coding: utf-8 -*-\n",
    "\n",
    "import numpy as np"
   ]
  },
  {
   "cell_type": "markdown",
   "metadata": {},
   "source": [
    "<h1>Numpy</h1>\n",
    "<br>\n",
    "Numpy é uma das bibliotecas do python destinados à manipulação de matrizes e cálculo numérico. Grande parte das\n",
    "bibliotecas de aprendizado de máquina do Python tem integração com o Numpy"
   ]
  },
  {
   "cell_type": "code",
   "execution_count": 21,
   "metadata": {},
   "outputs": [
    {
     "name": "stdout",
     "output_type": "stream",
     "text": [
      "Mat 1\n",
      " [[1. 2. 3.]\n",
      " [4. 5. 6.]\n",
      " [7. 8. 9.]]\n",
      "Mat 1 shape (3, 3)\n",
      "Mat 2\n",
      " [[ 3.  7.  3.]\n",
      " [ 5. 12. 35.]\n",
      " [ 3.  9.  2.]]\n",
      "Mat 2 shape (3, 3)\n"
     ]
    }
   ],
   "source": [
    "mat_1 = np.array([[1, 2, 3], [4, 5, 6], [7, 8, 9]], dtype=np.float32)\n",
    "mat_2 = np.array([[3, 7, 3], [5, 12, 35], [3, 9, 2]], dtype=np.float32)\n",
    "\n",
    "print('Mat 1\\n', mat_1)\n",
    "print('Mat 1 shape', np.shape(mat_1))\n",
    "print('Mat 2\\n', mat_2)\n",
    "print('Mat 2 shape', np.shape(mat_2))"
   ]
  },
  {
   "cell_type": "markdown",
   "metadata": {},
   "source": [
    "<h2>Terminologia</h2>\n",
    "<br>Matrizes com apenas uma dimensão são chamadas de arrays"
   ]
  },
  {
   "cell_type": "code",
   "execution_count": 2,
   "metadata": {},
   "outputs": [
    {
     "name": "stdout",
     "output_type": "stream",
     "text": [
      "(3,)\n"
     ]
    }
   ],
   "source": [
    "k = np.array([1,2,3])\n",
    "print(np.shape(k))"
   ]
  },
  {
   "cell_type": "markdown",
   "metadata": {},
   "source": [
    "Matrizes tem duas dimensões"
   ]
  },
  {
   "cell_type": "code",
   "execution_count": 3,
   "metadata": {},
   "outputs": [
    {
     "name": "stdout",
     "output_type": "stream",
     "text": [
      "(3, 2)\n"
     ]
    }
   ],
   "source": [
    "k = np.array([[1, 2],[2, 3],[3, 4]])\n",
    "print(np.shape(k))"
   ]
  },
  {
   "cell_type": "markdown",
   "metadata": {},
   "source": [
    "Matrizes com mais de 2 dimensões são chamadas de <b>Tensores</b>"
   ]
  },
  {
   "cell_type": "code",
   "execution_count": 4,
   "metadata": {},
   "outputs": [
    {
     "name": "stdout",
     "output_type": "stream",
     "text": [
      "(2, 2, 2)\n"
     ]
    }
   ],
   "source": [
    "k = np.array([[[1,2], [3,4]], [[5,6],[7,8]]])\n",
    "print(np.shape(k))"
   ]
  },
  {
   "cell_type": "markdown",
   "metadata": {},
   "source": [
    "<h2>Mudando a dimensão de matrizes</h2>"
   ]
  },
  {
   "cell_type": "code",
   "execution_count": 5,
   "metadata": {},
   "outputs": [
    {
     "name": "stdout",
     "output_type": "stream",
     "text": [
      "[[ 3.  7.  3.]\n",
      " [ 5. 12. 35.]\n",
      " [ 3.  9.  2.]\n",
      " [ 1.  2.  3.]]\n",
      "--------\n",
      "(4, 3)\n"
     ]
    }
   ],
   "source": [
    "example_matrix = np.array([[3, 7, 3], [5, 12, 35], [3, 9, 2], [1, 2, 3]], dtype=np.float32)\n",
    "print(example_matrix)\n",
    "print('--------')\n",
    "print(example_matrix.shape)"
   ]
  },
  {
   "cell_type": "code",
   "execution_count": 6,
   "metadata": {},
   "outputs": [
    {
     "name": "stdout",
     "output_type": "stream",
     "text": [
      "[ 3.  7.  3.  5. 12. 35.  3.  9.  2.  1.  2.  3.]\n",
      "--------\n",
      "(12,)\n"
     ]
    }
   ],
   "source": [
    "#Transformando num vetor linha\n",
    "line_mat = example_matrix.ravel()\n",
    "print(line_mat)\n",
    "print('--------')\n",
    "print(line_mat.shape)"
   ]
  },
  {
   "cell_type": "code",
   "execution_count": 48,
   "metadata": {},
   "outputs": [
    {
     "name": "stdout",
     "output_type": "stream",
     "text": [
      "[[ 3.  7.  3.  5.]\n",
      " [12. 35.  3.  9.]\n",
      " [ 2.  1.  2.  3.]]\n",
      "--------\n",
      "[[ 3.  7.]\n",
      " [ 3.  5.]\n",
      " [12. 35.]\n",
      " [ 3.  9.]\n",
      " [ 2.  1.]\n",
      " [ 2.  3.]]\n"
     ]
    }
   ],
   "source": [
    "#Mudando a dimensao\n",
    "reshaped_matrix = example_matrix.reshape((3,4))\n",
    "print(reshaped_matrix)\n",
    "print('--------')\n",
    "reshaped_matrix = example_matrix.reshape((6, 2))\n",
    "print(reshaped_matrix)"
   ]
  },
  {
   "cell_type": "code",
   "execution_count": 12,
   "metadata": {},
   "outputs": [
    {
     "name": "stdout",
     "output_type": "stream",
     "text": [
      "[[ 3.  7.  3.  5. 12. 35.]\n",
      " [ 3.  9.  2.  1.  2.  3.]]\n"
     ]
    }
   ],
   "source": [
    "reshaped_matrix = example_matrix.reshape((2,-1))\n",
    "print(reshaped_matrix)"
   ]
  },
  {
   "cell_type": "code",
   "execution_count": 9,
   "metadata": {},
   "outputs": [
    {
     "data": {
      "text/plain": [
       "array([[1, 2, 3, 4]])"
      ]
     },
     "execution_count": 9,
     "metadata": {},
     "output_type": "execute_result"
    }
   ],
   "source": [
    "k = np.array([1,2,3,4])\n",
    "k_r = np.reshape(k, (1, 4))\n",
    "k_r"
   ]
  },
  {
   "cell_type": "code",
   "execution_count": 17,
   "metadata": {},
   "outputs": [
    {
     "name": "stdout",
     "output_type": "stream",
     "text": [
      "[[ 3.  7.  3.]\n",
      " [ 5. 12. 35.]\n",
      " [ 3.  9.  2.]\n",
      " [ 1.  2.  3.]]\n",
      "3.0\n",
      "------\n",
      "3.0\n",
      "------\n",
      "Linha 2 [3. 9. 2.]\n",
      "Coluna 2 [ 3. 35.  2.  3.]\n",
      "Sub matrix\n",
      "------\n",
      "[[9. 2.]\n",
      " [2. 3.]]\n"
     ]
    }
   ],
   "source": [
    "#Acessando elementos de um array numpy\n",
    "print(example_matrix)\n",
    "print(example_matrix[3][2])\n",
    "print('------')\n",
    "print(example_matrix[3,2])\n",
    "print('------')\n",
    "print('Linha 2', example_matrix[2, :])\n",
    "print('Coluna 2', example_matrix[:, 2])\n",
    "print('Sub matrix')\n",
    "print('------')\n",
    "print(example_matrix[2:, 1:])"
   ]
  },
  {
   "cell_type": "markdown",
   "metadata": {},
   "source": [
    "Atravez do numpy, podemos facilmente criar matrizes unitárias, identidade, zeradas, ou aleatórias"
   ]
  },
  {
   "cell_type": "code",
   "execution_count": 18,
   "metadata": {},
   "outputs": [
    {
     "name": "stdout",
     "output_type": "stream",
     "text": [
      "[[1. 0. 0.]\n",
      " [0. 1. 0.]\n",
      " [0. 0. 1.]]\n",
      "----\n",
      "[[0. 0. 0. 0.]\n",
      " [0. 0. 0. 0.]\n",
      " [0. 0. 0. 0.]]\n",
      "----\n",
      "[[1. 1. 1. 1.]\n",
      " [1. 1. 1. 1.]\n",
      " [1. 1. 1. 1.]]\n",
      "-----------\n",
      "[[0.4770497  0.88947157 0.38594495 0.5154173 ]\n",
      " [0.25784715 0.76356616 0.9257575  0.67133196]\n",
      " [0.0216033  0.99751356 0.53404397 0.9314343 ]]\n"
     ]
    }
   ],
   "source": [
    "a = np.eye(3) #Matriz identidade\n",
    "b = np.zeros((3,4)) #Matriz zerada\n",
    "c = np.ones((3, 4)) #Matriz unitaria\n",
    "\n",
    "print(a)\n",
    "print('----')\n",
    "print(b)\n",
    "print('----')\n",
    "print(c)\n",
    "\n",
    "d = np.random.rand(3,4) #Matriz aleatoria com distribuicao uniforme entre [0,1]\n",
    "print('-----------')\n",
    "print(d)"
   ]
  },
  {
   "cell_type": "markdown",
   "metadata": {},
   "source": [
    "Também é possível criar intervalos facilmente"
   ]
  },
  {
   "cell_type": "code",
   "execution_count": 19,
   "metadata": {},
   "outputs": [
    {
     "name": "stdout",
     "output_type": "stream",
     "text": [
      "[-10.          -7.77777778  -5.55555556  -3.33333333  -1.11111111\n",
      "   1.11111111   3.33333333   5.55555556   7.77777778  10.        ]\n"
     ]
    }
   ],
   "source": [
    "interval = np.linspace(-10, 10, 10)\n",
    "print(interval)"
   ]
  },
  {
   "cell_type": "markdown",
   "metadata": {},
   "source": [
    "Operações com matrizes também são bastante simples"
   ]
  },
  {
   "cell_type": "code",
   "execution_count": 23,
   "metadata": {},
   "outputs": [
    {
     "name": "stdout",
     "output_type": "stream",
     "text": [
      "Mat 1\n",
      " [[1. 2. 3.]\n",
      " [4. 5. 6.]\n",
      " [7. 8. 9.]]\n",
      "Mat 2\n",
      " [[ 3.  7.  3.]\n",
      " [ 5. 12. 35.]\n",
      " [ 3.  9.  2.]]\n",
      "--------\n",
      "Mat mult\n",
      " [[ 22.  58.  79.]\n",
      " [ 55. 142. 199.]\n",
      " [ 88. 226. 319.]]\n",
      "Mat 1 transpose\n",
      " [[ 22.  55.  88.]\n",
      " [ 58. 142. 226.]\n",
      " [ 79. 199. 319.]]\n",
      "Mat 2 inverse\n",
      " [[ 1.6077348  -0.0718232  -1.1546961 ]\n",
      " [-0.5248619   0.01657459  0.49723756]\n",
      " [-0.04972376  0.03314917 -0.00552486]]\n"
     ]
    }
   ],
   "source": [
    "print('Mat 1\\n', mat_1)\n",
    "print('Mat 2\\n', mat_2)\n",
    "\n",
    "print('--------')\n",
    "\n",
    "mat_mul = np.dot(mat_1, mat_2)\n",
    "mat_1_t = np.transpose(mat_mul)\n",
    "inversed = np.linalg.inv(mat_2)\n",
    "\n",
    "print('Mat mult\\n', mat_mul)\n",
    "print('Mat 1 transpose\\n', mat_1_t)\n",
    "print('Mat 2 inverse\\n', inversed)"
   ]
  },
  {
   "cell_type": "markdown",
   "metadata": {},
   "source": [
    "Também é possível facilmente realizar operações com os números dentro de uma matrix"
   ]
  },
  {
   "cell_type": "code",
   "execution_count": 11,
   "metadata": {},
   "outputs": [
    {
     "name": "stdout",
     "output_type": "stream",
     "text": [
      "Soma dos elementos 15\n",
      "Media dos elementos 3.0\n",
      "Variancia dos elementos 2.0\n",
      "Desvio padrado dos elementos 1.4142135623730951\n"
     ]
    }
   ],
   "source": [
    "k = np.array([1,2,3,4,5])\n",
    "\n",
    "print('Soma dos elementos', np.sum(k))\n",
    "print('Media dos elementos', np.mean(k))\n",
    "print('Variancia dos elementos', np.var(k))\n",
    "print('Desvio padrado dos elementos', np.std(k))"
   ]
  },
  {
   "cell_type": "markdown",
   "metadata": {},
   "source": [
    "A função dot, em particular, realiza o produto escalar entre dois arrays"
   ]
  },
  {
   "cell_type": "code",
   "execution_count": 17,
   "metadata": {},
   "outputs": [
    {
     "name": "stdout",
     "output_type": "stream",
     "text": [
      "26\n"
     ]
    }
   ],
   "source": [
    "k1 = np.array([1,2,3])\n",
    "k2 = np.array([3,4,5])\n",
    "\n",
    "print(np.dot(k1, k2))"
   ]
  },
  {
   "cell_type": "markdown",
   "metadata": {},
   "source": [
    "Para realizar a multiplicação termo a termo, utilize a função <b>multiply</b>"
   ]
  },
  {
   "cell_type": "code",
   "execution_count": 24,
   "metadata": {},
   "outputs": [
    {
     "name": "stdout",
     "output_type": "stream",
     "text": [
      "[ 3  8 15]\n"
     ]
    }
   ],
   "source": [
    "k1 = np.array([1,2,3])\n",
    "k2 = np.array([3,4,5])\n",
    "\n",
    "print(np.multiply(k1, k2))"
   ]
  },
  {
   "cell_type": "markdown",
   "metadata": {},
   "source": [
    "<h2>Operações entre arrays que não possuem o mesmo tamanho</h2>"
   ]
  },
  {
   "cell_type": "code",
   "execution_count": 21,
   "metadata": {},
   "outputs": [
    {
     "name": "stdout",
     "output_type": "stream",
     "text": [
      "[[1 2 3]\n",
      " [4 5 6]\n",
      " [7 8 9]]\n",
      "------\n",
      "[4]\n",
      "------\n",
      "[[ 5  6  7]\n",
      " [ 8  9 10]\n",
      " [11 12 13]]\n"
     ]
    }
   ],
   "source": [
    "#Operações com elementos unitários\n",
    "\n",
    "k1 = np.array([[1,2,3], [4,5,6], [7,8,9]])\n",
    "k2 = np.array([4])\n",
    "\n",
    "print(k1)\n",
    "print('------')\n",
    "print(k2)\n",
    "print('------')\n",
    "print(k1 + k2)"
   ]
  },
  {
   "cell_type": "code",
   "execution_count": 22,
   "metadata": {},
   "outputs": [
    {
     "name": "stdout",
     "output_type": "stream",
     "text": [
      "[[1 2 3]\n",
      " [4 5 6]\n",
      " [7 8 9]]\n",
      "------\n",
      "[1 2 3]\n",
      "------\n",
      "[[1]\n",
      " [2]\n",
      " [3]]\n",
      "------\n",
      "k1 + k2\n",
      "[[ 2  4  6]\n",
      " [ 5  7  9]\n",
      " [ 8 10 12]]\n",
      "k1 + k3\n",
      "[[ 2  3  4]\n",
      " [ 6  7  8]\n",
      " [10 11 12]]\n"
     ]
    }
   ],
   "source": [
    "#Operações entre uma matriz e uma coluna ou linha\n",
    "k1 = np.array([[1,2,3], [4,5,6], [7,8,9]])\n",
    "k2 = np.array([1,2,3]) #Linha\n",
    "k3 = np.array([[1], [2], [3]]) #Coluna. Tambem poderia ser np.transpose(k2)\n",
    "\n",
    "print(k1)\n",
    "print('------')\n",
    "print(k2)\n",
    "print('------')\n",
    "print(k3)\n",
    "print('------')\n",
    "print('k1 + k2')\n",
    "print(k1 + k2)\n",
    "print('k1 + k3')\n",
    "print(k1 + k3)"
   ]
  },
  {
   "cell_type": "markdown",
   "metadata": {},
   "source": [
    "<h2>Combinando matrizes em matrizes maiores</h2>"
   ]
  },
  {
   "cell_type": "code",
   "execution_count": 23,
   "metadata": {},
   "outputs": [
    {
     "name": "stdout",
     "output_type": "stream",
     "text": [
      "[1 2 3 4 5 6 7 8 9]\n",
      "-------\n",
      "[[1 2 3]\n",
      " [4 5 6]\n",
      " [7 8 9]]\n"
     ]
    }
   ],
   "source": [
    "k1 = np.array([1,2,3])\n",
    "k2 = np.array([4,5,6])\n",
    "k3 = np.array([7,8,9])\n",
    "\n",
    "print(np.hstack([k1, k2, k3]))\n",
    "print('-------')\n",
    "print(np.vstack([k1, k2, k3]))"
   ]
  },
  {
   "cell_type": "markdown",
   "metadata": {},
   "source": [
    "<h1>Matplotlib</h1>\n",
    "<br>\n",
    "Matplotlib é uma biblioteca que dá suporte à criação de gráficos de forma bem simples"
   ]
  },
  {
   "cell_type": "code",
   "execution_count": 25,
   "metadata": {},
   "outputs": [],
   "source": [
    "import matplotlib.pyplot as plt"
   ]
  },
  {
   "cell_type": "code",
   "execution_count": 27,
   "metadata": {},
   "outputs": [
    {
     "data": {
      "image/png": "[encoded data removed]",
      "text/plain": [
       "<Figure size 432x288 with 1 Axes>"
      ]
     },
     "metadata": {
      "needs_background": "light"
     },
     "output_type": "display_data"
    }
   ],
   "source": [
    "x = np.linspace(-40.0, 40.0, 100)\n",
    "y = [a**2 for a in x]\n",
    "\n",
    "plt.figure()\n",
    "plt.plot(x, y)\n",
    "plt.show(block=False)"
   ]
  },
  {
   "cell_type": "markdown",
   "metadata": {},
   "source": [
    "É possível também mudar a cor e o tipo da linha no gráfico"
   ]
  },
  {
   "cell_type": "code",
   "execution_count": 19,
   "metadata": {},
   "outputs": [
    {
     "data": {
      "image/png": "[encoded data removed]",
      "text/plain": [
       "<Figure size 432x288 with 1 Axes>"
      ]
     },
     "metadata": {
      "needs_background": "light"
     },
     "output_type": "display_data"
    },
    {
     "data": {
      "image/png": "[encoded data removed]",
      "text/plain": [
       "<Figure size 432x288 with 1 Axes>"
      ]
     },
     "metadata": {
      "needs_background": "light"
     },
     "output_type": "display_data"
    },
    {
     "data": {
      "image/png": "[encoded data removed]",
      "text/plain": [
       "<Figure size 432x288 with 1 Axes>"
      ]
     },
     "metadata": {
      "needs_background": "light"
     },
     "output_type": "display_data"
    }
   ],
   "source": [
    "plt.figure()\n",
    "plt.plot(x, y, '-r')\n",
    "\n",
    "plt.figure()\n",
    "plt.plot(x, y, '*m')\n",
    "\n",
    "plt.figure()\n",
    "plt.plot(x, y, 'ok')\n",
    "\n",
    "plt.show(block=False)"
   ]
  },
  {
   "cell_type": "markdown",
   "metadata": {},
   "source": [
    "Tambem é possivel criar graficos de barras"
   ]
  },
  {
   "cell_type": "code",
   "execution_count": 28,
   "metadata": {},
   "outputs": [
    {
     "data": {
      "text/plain": [
       "<BarContainer object of 100 artists>"
      ]
     },
     "execution_count": 28,
     "metadata": {},
     "output_type": "execute_result"
    },
    {
     "data": {
      "image/png": "[encoded data removed]",
      "text/plain": [
       "<Figure size 432x288 with 1 Axes>"
      ]
     },
     "metadata": {
      "needs_background": "light"
     },
     "output_type": "display_data"
    }
   ],
   "source": [
    "plt.figure()\n",
    "plt.bar(x,y)"
   ]
  },
  {
   "cell_type": "markdown",
   "metadata": {},
   "source": [
    "Plotar dois gráficos em uma mesma figura também é bastante simples"
   ]
  },
  {
   "cell_type": "code",
   "execution_count": 37,
   "metadata": {},
   "outputs": [
    {
     "data": {
      "image/png": "[encoded data removed]",
      "text/plain": [
       "<Figure size 432x288 with 1 Axes>"
      ]
     },
     "metadata": {
      "needs_background": "light"
     },
     "output_type": "display_data"
    }
   ],
   "source": [
    "x = np.linspace(-1, 1, 100)\n",
    "y1 = [a**2 for a in x]\n",
    "y2 = [a**3 for a in x]\n",
    "\n",
    "plt.figure()\n",
    "plt.plot(x, y1, '-b')\n",
    "plt.plot(x, y2, '-r')\n",
    "plt.show(block=False)"
   ]
  },
  {
   "cell_type": "markdown",
   "metadata": {},
   "source": [
    "Existem comandos simples para adicionar anotações no gráfico"
   ]
  },
  {
   "cell_type": "code",
   "execution_count": 39,
   "metadata": {},
   "outputs": [
    {
     "data": {
      "image/png": "[encoded data removed]",
      "text/plain": [
       "<Figure size 432x288 with 1 Axes>"
      ]
     },
     "metadata": {
      "needs_background": "light"
     },
     "output_type": "display_data"
    }
   ],
   "source": [
    "x = np.linspace(-1, 1, 100)\n",
    "y1 = [a**2 for a in x]\n",
    "y2 = [a**3 for a in x]\n",
    "\n",
    "plt.figure()\n",
    "plt.title('Comparação entre gráficos')\n",
    "plt.ylabel('Eixo das ordenadas')\n",
    "plt.xlabel('Eixo das abscissas')\n",
    "plt.annotate('ponto zero', xy=(0,0))\n",
    "plt.plot(x, y1, '-b')\n",
    "plt.plot(x, y2, '-r')\n",
    "plt.show(block=False)"
   ]
  },
  {
   "cell_type": "markdown",
   "metadata": {},
   "source": [
    "Podem-se também criar gráficos do tipo scatter"
   ]
  },
  {
   "cell_type": "code",
   "execution_count": 40,
   "metadata": {},
   "outputs": [
    {
     "data": {
      "image/png": "[encoded data removed]",
      "text/plain": [
       "<Figure size 432x288 with 1 Axes>"
      ]
     },
     "metadata": {
      "needs_background": "light"
     },
     "output_type": "display_data"
    }
   ],
   "source": [
    "x = np.random.rand(10)\n",
    "y = np.random.rand(10)\n",
    "\n",
    "plt.figure()\n",
    "plt.scatter(x, y)\n",
    "plt.show()"
   ]
  },
  {
   "cell_type": "markdown",
   "metadata": {},
   "source": [
    "Também é possível criar histogramas"
   ]
  },
  {
   "cell_type": "code",
   "execution_count": 30,
   "metadata": {},
   "outputs": [
    {
     "data": {
      "image/png": "[encoded data removed]",
      "text/plain": [
       "<Figure size 432x288 with 1 Axes>"
      ]
     },
     "metadata": {
      "needs_background": "light"
     },
     "output_type": "display_data"
    }
   ],
   "source": [
    "x = np.random.randn(100)\n",
    "plt.figure()\n",
    "plt.hist(x, bins=np.linspace(-3, 3, 10))\n",
    "plt.show()"
   ]
  },
  {
   "cell_type": "markdown",
   "metadata": {},
   "source": [
    "<h1>Atividade 1: Resolva o sistema de equações a seguir usando Numpy</h1>\n",
    "\n",
    "2.3x + 4y + 5z = 1\n",
    "\n",
    "3x + 5y + 6z = 4\n",
    "\n",
    "1.7x + 7y + 3z = 9"
   ]
  },
  {
   "cell_type": "code",
   "execution_count": 58,
   "metadata": {},
   "outputs": [
    {
     "name": "stdout",
     "output_type": "stream",
     "text": [
      "x= [10.76923077]\n",
      "y= [1.07692308]\n",
      "z= [-5.61538462]\n"
     ]
    }
   ],
   "source": [
    "A = np.array([[2.3, 4, 5], [3, 5, 6], [1.7, 7, 3]])\n",
    "B = np.array([[1], [4], [9]])\n",
    "\n",
    "A_inv = np.linalg.inv(A)\n",
    "solution = np.dot(A_inv, B)\n",
    "\n",
    "print('x=', solution[0])\n",
    "print('y=', solution[1])\n",
    "print('z=', solution[2])"
   ]
  },
  {
   "cell_type": "markdown",
   "metadata": {},
   "source": [
    "<h1>Atividade 2: Trace o gráfico da seguinte função</h1>\n",
    "\n",
    "y = sqrt(x) + log10(x)"
   ]
  },
  {
   "cell_type": "code",
   "execution_count": 34,
   "metadata": {},
   "outputs": [
    {
     "name": "stdout",
     "output_type": "stream",
     "text": [
      "2.0\n",
      "2.0\n"
     ]
    },
    {
     "name": "stderr",
     "output_type": "stream",
     "text": [
      "/Users/fnba/anaconda3/lib/python3.7/site-packages/ipykernel_launcher.py:8: DeprecationWarning: object of type <class 'float'> cannot be safely interpreted as an integer.\n",
      "  \n"
     ]
    },
    {
     "data": {
      "image/png": "[encoded data removed]",
      "text/plain": [
       "<Figure size 432x288 with 1 Axes>"
      ]
     },
     "metadata": {
      "needs_background": "light"
     },
     "output_type": "display_data"
    }
   ],
   "source": [
    "#Dica\n",
    "\n",
    "import math as m\n",
    "\n",
    "print(m.sqrt(4))\n",
    "print(m.log10(100))\n",
    "\n",
    "x = np.linspace(1.0, 40.0, 100.0)\n",
    "y = np.sqrt(x) + np.log10(x)\n",
    "\n",
    "plt.figure()\n",
    "plt.plot(x, y)\n",
    "plt.show()"
   ]
  },
  {
   "cell_type": "markdown",
   "metadata": {},
   "source": [
    "<h2>Visualização com TSNE</h2>"
   ]
  },
  {
   "cell_type": "code",
   "execution_count": 37,
   "metadata": {},
   "outputs": [],
   "source": [
    "from sklearn import datasets\n",
    "\n",
    "iris = datasets.load_digits()\n",
    "X = iris.data\n",
    "Y = iris.target\n",
    "\n",
    "from sklearn.manifold import TSNE\n",
    "\n",
    "X_embedded = TSNE(n_components=2).fit_transform(X)"
   ]
  },
  {
   "cell_type": "code",
   "execution_count": 39,
   "metadata": {},
   "outputs": [
    {
     "data": {
      "text/plain": [
       "array([[  3.812927 ,  61.672874 ],\n",
       "       [-16.49163  , -19.651064 ],\n",
       "       [  9.026824 , -23.233055 ],\n",
       "       ...,\n",
       "       [  1.6711507, -12.462631 ],\n",
       "       [ 10.205498 ,  18.397251 ],\n",
       "       [  5.1293173,  -8.487852 ]], dtype=float32)"
      ]
     },
     "execution_count": 39,
     "metadata": {},
     "output_type": "execute_result"
    }
   ],
   "source": [
    "X_embedded"
   ]
  },
  {
   "cell_type": "code",
   "execution_count": 48,
   "metadata": {},
   "outputs": [
    {
     "data": {
      "text/plain": [
       "[(0, 1), (1, 2), (2, 3), (3, 4), (4, 5)]"
      ]
     },
     "execution_count": 48,
     "metadata": {},
     "output_type": "execute_result"
    }
   ],
   "source": [
    "k1 = [1,2,3,4,5]\n",
    "k2 = [3,4,3,4,3]\n",
    "\n",
    "[k for k in enumerate(k1)]"
   ]
  },
  {
   "cell_type": "code",
   "execution_count": 49,
   "metadata": {},
   "outputs": [
    {
     "data": {
      "text/plain": [
       "[1, 3, 5]"
      ]
     },
     "execution_count": 49,
     "metadata": {},
     "output_type": "execute_result"
    }
   ],
   "source": [
    "y = [a for i, a in enumerate(k1) if k2[i] == 3]\n",
    "y"
   ]
  },
  {
   "cell_type": "code",
   "execution_count": 50,
   "metadata": {},
   "outputs": [
    {
     "data": {
      "text/plain": [
       "[array([ 3.812927, 61.672874], dtype=float32),\n",
       " array([-0.50041217, 59.09077   ], dtype=float32),\n",
       " array([-8.138503, 62.172512], dtype=float32),\n",
       " array([ 3.528982, 56.048275], dtype=float32),\n",
       " array([-8.973561, 64.910095], dtype=float32),\n",
       " array([ 1.2776656, 63.868732 ], dtype=float32),\n",
       " array([-0.71941304, 67.39955   ], dtype=float32),\n",
       " array([-9.353542, 61.850018], dtype=float32),\n",
       " array([-8.511738, 60.626892], dtype=float32),\n",
       " array([-0.14076075, 69.927     ], dtype=float32),\n",
       " array([-2.1720831, 68.48546  ], dtype=float32),\n",
       " array([-9.226843, 58.984467], dtype=float32),\n",
       " array([-8.858419, 60.81011 ], dtype=float32),\n",
       " array([ 0.5152548, 65.22766  ], dtype=float32),\n",
       " array([-6.7619557, 66.861115 ], dtype=float32),\n",
       " array([-8.263268, 58.762695], dtype=float32),\n",
       " array([-7.920691, 64.683075], dtype=float32),\n",
       " array([-3.8354537, 64.28384  ], dtype=float32),\n",
       " array([-2.5744922, 69.11491  ], dtype=float32),\n",
       " array([-10.006531,  61.44843 ], dtype=float32),\n",
       " array([-9.018725, 60.796604], dtype=float32),\n",
       " array([-4.2481713, 66.73925  ], dtype=float32),\n",
       " array([-9.447641, 62.914692], dtype=float32),\n",
       " array([-9.494187, 59.48214 ], dtype=float32),\n",
       " array([-3.044149, 68.32391 ], dtype=float32),\n",
       " array([-7.2448096, 61.690052 ], dtype=float32),\n",
       " array([ 0.39857316, 58.442955  ], dtype=float32),\n",
       " array([-5.6498146, 68.74038  ], dtype=float32),\n",
       " array([ 1.537984, 61.112198], dtype=float32),\n",
       " array([ 1.028095, 58.423748], dtype=float32),\n",
       " array([ 7.519561, 61.37015 ], dtype=float32),\n",
       " array([ 1.4889903, 63.945038 ], dtype=float32),\n",
       " array([ 1.716092, 63.085014], dtype=float32),\n",
       " array([ 1.7477877, 62.176163 ], dtype=float32),\n",
       " array([ 1.2789872, 60.29751  ], dtype=float32),\n",
       " array([-0.66694933, 59.77439   ], dtype=float32),\n",
       " array([ 2.0334413, 60.063156 ], dtype=float32),\n",
       " array([-0.32564804, 66.29943   ], dtype=float32),\n",
       " array([ 0.34139854, 66.69879   ], dtype=float32),\n",
       " array([-3.6760135, 70.280426 ], dtype=float32),\n",
       " array([-3.65632 , 67.973236], dtype=float32),\n",
       " array([-4.005591, 66.2909  ], dtype=float32),\n",
       " array([-7.527416, 66.68543 ], dtype=float32),\n",
       " array([-4.3694744, 69.37625  ], dtype=float32),\n",
       " array([-1.9362202, 67.9984   ], dtype=float32),\n",
       " array([-2.8296866, 66.235535 ], dtype=float32),\n",
       " array([ 3.7038884, 66.03767  ], dtype=float32),\n",
       " array([-4.2238793, 64.81804  ], dtype=float32),\n",
       " array([ 3.7414017, 64.0265   ], dtype=float32),\n",
       " array([-1.642617, 69.38369 ], dtype=float32),\n",
       " array([-5.086931, 70.94104 ], dtype=float32),\n",
       " array([-0.19771646, 63.301025  ], dtype=float32),\n",
       " array([-2.3402183, 63.816948 ], dtype=float32),\n",
       " array([ 6.950652, 66.433525], dtype=float32),\n",
       " array([ 4.5004315, 58.523586 ], dtype=float32),\n",
       " array([-2.6498992, 63.822414 ], dtype=float32),\n",
       " array([ 4.4104447, 67.87885  ], dtype=float32),\n",
       " array([-1.5465053, 62.49705  ], dtype=float32),\n",
       " array([ 0.42649603, 71.81554   ], dtype=float32),\n",
       " array([-0.54005224, 60.700504  ], dtype=float32),\n",
       " array([-4.172868, 58.47867 ], dtype=float32),\n",
       " array([ 5.687885, 64.21429 ], dtype=float32),\n",
       " array([-2.728649, 63.536957], dtype=float32),\n",
       " array([ 5.0645103, 57.85481  ], dtype=float32),\n",
       " array([-1.6660899, 63.69997  ], dtype=float32),\n",
       " array([-5.0691338, 59.957005 ], dtype=float32),\n",
       " array([ 7.6326494, 58.379566 ], dtype=float32),\n",
       " array([-5.4497056, 60.414864 ], dtype=float32),\n",
       " array([ 1.4131249, 59.8395   ], dtype=float32),\n",
       " array([-3.5291817, 67.535446 ], dtype=float32),\n",
       " array([-5.77562, 64.445  ], dtype=float32),\n",
       " array([ 5.3467364, 60.34711  ], dtype=float32),\n",
       " array([-10.075409,  62.575333], dtype=float32),\n",
       " array([-6.510667, 64.2019  ], dtype=float32),\n",
       " array([-7.22658, 65.33339], dtype=float32),\n",
       " array([ 0.95748013, 60.388588  ], dtype=float32),\n",
       " array([-4.876987, 62.060932], dtype=float32),\n",
       " array([-5.6874566, 64.53307  ], dtype=float32),\n",
       " array([ 7.6876426, 63.228752 ], dtype=float32),\n",
       " array([ 2.1449814, 70.90524  ], dtype=float32),\n",
       " array([ 6.540036, 61.93881 ], dtype=float32),\n",
       " array([ 1.3239737, 62.66423  ], dtype=float32),\n",
       " array([ 0.77517354, 62.14426   ], dtype=float32),\n",
       " array([-2.4668465, 57.236893 ], dtype=float32),\n",
       " array([-1.3819243, 57.726345 ], dtype=float32),\n",
       " array([ 2.2079856, 56.06353  ], dtype=float32),\n",
       " array([-7.104587, 62.842167], dtype=float32),\n",
       " array([-9.432474, 64.09545 ], dtype=float32),\n",
       " array([ 3.1735418, 64.80076  ], dtype=float32),\n",
       " array([ 3.4755113, 61.558456 ], dtype=float32),\n",
       " array([-2.400687, 59.404026], dtype=float32),\n",
       " array([ 5.2477236, 67.41049  ], dtype=float32),\n",
       " array([ 4.77149, 67.09061], dtype=float32),\n",
       " array([-0.5430995, 64.81322  ], dtype=float32),\n",
       " array([ 5.2351503, 65.721756 ], dtype=float32),\n",
       " array([ 3.535586, 65.22649 ], dtype=float32),\n",
       " array([ 5.4083815, 66.38906  ], dtype=float32),\n",
       " array([ 7.725016, 63.279755], dtype=float32),\n",
       " array([ 2.378286, 68.36136 ], dtype=float32),\n",
       " array([ 4.6230965, 64.9893   ], dtype=float32),\n",
       " array([ 6.2093635, 67.45297  ], dtype=float32),\n",
       " array([ 4.1839414, 62.35828  ], dtype=float32),\n",
       " array([-1.8574193, 66.80328  ], dtype=float32),\n",
       " array([ 4.273242, 70.15153 ], dtype=float32),\n",
       " array([ 3.3360114, 67.4586   ], dtype=float32),\n",
       " array([-1.7724802, 66.042    ], dtype=float32),\n",
       " array([ 5.8351455, 70.942795 ], dtype=float32),\n",
       " array([ 5.790199, 70.898895], dtype=float32),\n",
       " array([ 1.5426263, 71.96619  ], dtype=float32),\n",
       " array([ 3.2330267, 66.14573  ], dtype=float32),\n",
       " array([ 1.5435109, 72.3076   ], dtype=float32),\n",
       " array([ 0.5588914, 71.87101  ], dtype=float32),\n",
       " array([ 4.5248847, 62.947384 ], dtype=float32),\n",
       " array([ 3.7915633, 68.60848  ], dtype=float32),\n",
       " array([-0.55367416, 64.69745   ], dtype=float32),\n",
       " array([ 4.599443, 61.028748], dtype=float32),\n",
       " array([ 2.6300843, 59.322067 ], dtype=float32),\n",
       " array([ 7.0059943, 58.88598  ], dtype=float32),\n",
       " array([ 5.596315, 54.778416], dtype=float32),\n",
       " array([ 4.554887, 55.434566], dtype=float32),\n",
       " array([ 5.581606, 54.80712 ], dtype=float32),\n",
       " array([ 6.493821, 58.57936 ], dtype=float32),\n",
       " array([ 7.689983, 59.33362 ], dtype=float32),\n",
       " array([ 7.5049186, 58.576653 ], dtype=float32),\n",
       " array([ 6.56686, 58.84793], dtype=float32),\n",
       " array([-3.453739, 57.4889  ], dtype=float32),\n",
       " array([ 8.174397, 58.40529 ], dtype=float32),\n",
       " array([ 4.456137, 70.139786], dtype=float32),\n",
       " array([-3.4676867, 59.930412 ], dtype=float32),\n",
       " array([-3.063904, 61.4376  ], dtype=float32),\n",
       " array([-0.77907157, 71.565544  ], dtype=float32),\n",
       " array([-10.604137,  63.790714], dtype=float32),\n",
       " array([-5.0701303, 61.670883 ], dtype=float32),\n",
       " array([-5.4525766, 62.040333 ], dtype=float32),\n",
       " array([ 2.9289634, 56.124123 ], dtype=float32),\n",
       " array([-0.10791106, 61.08615   ], dtype=float32),\n",
       " array([ 4.2699122, 61.692207 ], dtype=float32),\n",
       " array([-3.94877 , 61.926094], dtype=float32),\n",
       " array([-3.7237782, 61.01096  ], dtype=float32),\n",
       " array([-10.792766,  63.739822], dtype=float32),\n",
       " array([ 4.632266, 66.37319 ], dtype=float32),\n",
       " array([-0.18333866, 68.18777   ], dtype=float32),\n",
       " array([ 7.193688, 65.76241 ], dtype=float32),\n",
       " array([ 1.11988, 68.01952], dtype=float32),\n",
       " array([ 0.93099344, 67.371506  ], dtype=float32),\n",
       " array([ 1.6525539, 66.2392   ], dtype=float32),\n",
       " array([ 1.6982782, 66.560265 ], dtype=float32),\n",
       " array([-0.5500847, 71.57574  ], dtype=float32),\n",
       " array([-2.2537205, 70.8649   ], dtype=float32),\n",
       " array([-1.0988836, 71.46554  ], dtype=float32),\n",
       " array([ 2.1299262, 65.88299  ], dtype=float32),\n",
       " array([ 1.4334819, 67.99705  ], dtype=float32),\n",
       " array([ 3.293031, 64.2703  ], dtype=float32),\n",
       " array([-6.341518, 62.193653], dtype=float32),\n",
       " array([-6.554633, 61.169678], dtype=float32),\n",
       " array([-5.8332477, 63.253067 ], dtype=float32),\n",
       " array([-12.225463,  62.977226], dtype=float32),\n",
       " array([-2.3825786, 61.464245 ], dtype=float32),\n",
       " array([-11.491711,  62.059845], dtype=float32),\n",
       " array([ 0.33542868, 56.39857   ], dtype=float32),\n",
       " array([-6.9864054, 59.558266 ], dtype=float32),\n",
       " array([-11.223892,  61.684063], dtype=float32),\n",
       " array([ 1.8430133, 71.0048   ], dtype=float32),\n",
       " array([-8.616237, 63.08488 ], dtype=float32),\n",
       " array([-0.2469319, 61.43202  ], dtype=float32),\n",
       " array([-0.8915349, 68.389336 ], dtype=float32),\n",
       " array([-2.0301614, 67.36549  ], dtype=float32),\n",
       " array([-5.1115737, 70.37783  ], dtype=float32),\n",
       " array([ 3.1864612, 62.409237 ], dtype=float32),\n",
       " array([-7.4698544, 63.6233   ], dtype=float32),\n",
       " array([-6.4805217, 69.00185  ], dtype=float32),\n",
       " array([ 2.5680823, 61.62559  ], dtype=float32),\n",
       " array([-8.148109, 67.20619 ], dtype=float32),\n",
       " array([-5.8267612, 68.77288  ], dtype=float32),\n",
       " array([ 3.425597, 59.965015], dtype=float32),\n",
       " array([-4.9674172, 70.23825  ], dtype=float32),\n",
       " array([-7.362666, 59.014168], dtype=float32),\n",
       " array([-7.765532, 64.90425 ], dtype=float32)]"
      ]
     },
     "execution_count": 50,
     "metadata": {},
     "output_type": "execute_result"
    }
   ],
   "source": [
    "X_0 = [x for i, x in enumerate(X_embedded) if Y[i] == 0]\n",
    "X_1 = [x for i, x in enumerate(X_embedded) if Y[i] == 1]\n",
    "X_2 = [x for i, x in enumerate(X_embedded) if Y[i] == 2]\n",
    "\n",
    "X_0"
   ]
  },
  {
   "cell_type": "code",
   "execution_count": 7,
   "metadata": {},
   "outputs": [
    {
     "data": {
      "image/png": "[encoded data removed]",
      "text/plain": [
       "<Figure size 432x288 with 1 Axes>"
      ]
     },
     "metadata": {
      "needs_background": "light"
     },
     "output_type": "display_data"
    }
   ],
   "source": [
    "X_0 = [x for i, x in enumerate(X_embedded) if Y[i] == 0]\n",
    "X_1 = [x for i, x in enumerate(X_embedded) if Y[i] == 1]\n",
    "X_2 = [x for i, x in enumerate(X_embedded) if Y[i] == 2]\n",
    "\n",
    "plt.figure()\n",
    "plt.scatter([a[0] for a in X_0], [a[1] for a in X_0], color='b')\n",
    "plt.scatter([a[0] for a in X_1], [a[1] for a in X_1], color='r')\n",
    "plt.scatter([a[0] for a in X_2], [a[1] for a in X_2], color='k')\n",
    "plt.show()"
   ]
  },
  {
   "cell_type": "markdown",
   "metadata": {},
   "source": [
    "<h2>Matriz de correlacao com o Numpy</h2>"
   ]
  },
  {
   "cell_type": "code",
   "execution_count": 51,
   "metadata": {},
   "outputs": [],
   "source": [
    "from sklearn import datasets\n",
    "import pandas as pd\n",
    "\n",
    "iris = datasets.load_iris()\n",
    "X = iris.data\n",
    "Y = iris.target\n",
    "\n",
    "a = pd.DataFrame(X, columns=iris.feature_names).corr()"
   ]
  },
  {
   "cell_type": "code",
   "execution_count": 53,
   "metadata": {},
   "outputs": [
    {
     "data": {
      "text/html": [
       "<div>\n",
       "<style scoped>\n",
       "    .dataframe tbody tr th:only-of-type {\n",
       "        vertical-align: middle;\n",
       "    }\n",
       "\n",
       "    .dataframe tbody tr th {\n",
       "        vertical-align: top;\n",
       "    }\n",
       "\n",
       "    .dataframe thead th {\n",
       "        text-align: right;\n",
       "    }\n",
       "</style>\n",
       "<table border=\"1\" class=\"dataframe\">\n",
       "  <thead>\n",
       "    <tr style=\"text-align: right;\">\n",
       "      <th></th>\n",
       "      <th>sepal length (cm)</th>\n",
       "      <th>sepal width (cm)</th>\n",
       "      <th>petal length (cm)</th>\n",
       "      <th>petal width (cm)</th>\n",
       "    </tr>\n",
       "  </thead>\n",
       "  <tbody>\n",
       "    <tr>\n",
       "      <th>sepal length (cm)</th>\n",
       "      <td>1.000000</td>\n",
       "      <td>-0.109369</td>\n",
       "      <td>0.871754</td>\n",
       "      <td>0.817954</td>\n",
       "    </tr>\n",
       "    <tr>\n",
       "      <th>sepal width (cm)</th>\n",
       "      <td>-0.109369</td>\n",
       "      <td>1.000000</td>\n",
       "      <td>-0.420516</td>\n",
       "      <td>-0.356544</td>\n",
       "    </tr>\n",
       "    <tr>\n",
       "      <th>petal length (cm)</th>\n",
       "      <td>0.871754</td>\n",
       "      <td>-0.420516</td>\n",
       "      <td>1.000000</td>\n",
       "      <td>0.962757</td>\n",
       "    </tr>\n",
       "    <tr>\n",
       "      <th>petal width (cm)</th>\n",
       "      <td>0.817954</td>\n",
       "      <td>-0.356544</td>\n",
       "      <td>0.962757</td>\n",
       "      <td>1.000000</td>\n",
       "    </tr>\n",
       "  </tbody>\n",
       "</table>\n",
       "</div>"
      ],
      "text/plain": [
       "                   sepal length (cm)  sepal width (cm)  petal length (cm)  \\\n",
       "sepal length (cm)           1.000000         -0.109369           0.871754   \n",
       "sepal width (cm)           -0.109369          1.000000          -0.420516   \n",
       "petal length (cm)           0.871754         -0.420516           1.000000   \n",
       "petal width (cm)            0.817954         -0.356544           0.962757   \n",
       "\n",
       "                   petal width (cm)  \n",
       "sepal length (cm)          0.817954  \n",
       "sepal width (cm)          -0.356544  \n",
       "petal length (cm)          0.962757  \n",
       "petal width (cm)           1.000000  "
      ]
     },
     "execution_count": 53,
     "metadata": {},
     "output_type": "execute_result"
    }
   ],
   "source": [
    "a"
   ]
  },
  {
   "cell_type": "code",
   "execution_count": 56,
   "metadata": {},
   "outputs": [
    {
     "data": {
      "text/plain": [
       "<matplotlib.colorbar.Colorbar at 0x1a1e9f8358>"
      ]
     },
     "execution_count": 56,
     "metadata": {},
     "output_type": "execute_result"
    },
    {
     "data": {
      "text/plain": [
       "<Figure size 432x288 with 0 Axes>"
      ]
     },
     "metadata": {},
     "output_type": "display_data"
    },
    {
     "data": {
      "image/png": "[encoded data removed]",
      "text/plain": [
       "<Figure size 288x288 with 2 Axes>"
      ]
     },
     "metadata": {
      "needs_background": "light"
     },
     "output_type": "display_data"
    }
   ],
   "source": [
    "plt.figure()\n",
    "feat_names = iris.feature_names\n",
    "plt.matshow(a)\n",
    "plt.xticks(range(len(feat_names)), feat_names, rotation=90)\n",
    "plt.yticks(range(len(feat_names)), feat_names, rotation=0)\n",
    "plt.colorbar()"
   ]
  },
  {
   "cell_type": "code",
   "execution_count": null,
   "metadata": {},
   "outputs": [],
   "source": []
  }
 ],
 "metadata": {
  "kernelspec": {
   "display_name": "Python 3",
   "language": "python",
   "name": "python3"
  },
  "language_info": {
   "codemirror_mode": {
    "name": "ipython",
    "version": 3
   },
   "file_extension": ".py",
   "mimetype": "text/x-python",
   "name": "python",
   "nbconvert_exporter": "python",
   "pygments_lexer": "ipython3",
   "version": "3.7.0"
  }
 },
 "nbformat": 4,
 "nbformat_minor": 2
}
